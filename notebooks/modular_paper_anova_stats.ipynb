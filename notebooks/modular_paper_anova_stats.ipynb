{
 "cells": [
  {
   "cell_type": "code",
   "execution_count": 1,
   "metadata": {},
   "outputs": [],
   "source": [
    "# conda activate statsmodels\n",
    "\n",
    "import numpy as np\n",
    "import pandas as pd\n",
    "from scipy.ndimage.filters import gaussian_filter\n",
    "\n",
    "import seaborn as sns\n",
    "import matplotlib.pyplot as plt\n",
    "plt.style.use('default')\n",
    "%matplotlib inline\n",
    "\n",
    "import pandas as pd\n",
    "import statsmodels.api as sm\n",
    "from statsmodels.formula.api import ols\n",
    "from statsmodels.stats.anova import anova_lm\n",
    "from statsmodels.graphics.factorplots import interaction_plot\n",
    "import matplotlib.pyplot as plt\n",
    "from scipy import stats"
   ]
  },
  {
   "cell_type": "code",
   "execution_count": 2,
   "metadata": {},
   "outputs": [],
   "source": [
    "def eta_squared(aov):\n",
    "    aov['eta_sq'] = 'NaN'\n",
    "    aov['eta_sq'] = aov[:-1]['sum_sq']/sum(aov['sum_sq'])\n",
    "    return aov\n",
    "\n",
    "def omega_squared(aov):\n",
    "    mse = aov['sum_sq'][-1]/aov['df'][-1]\n",
    "    aov['omega_sq'] = 'NaN'\n",
    "    aov['omega_sq'] = (aov[:-1]['sum_sq']-(aov[:-1]['df']*mse))/(sum(aov['sum_sq'])+mse)\n",
    "    return aov"
   ]
  },
  {
   "cell_type": "markdown",
   "metadata": {},
   "source": [
    "# 1. comparions of psth features for cluster_id and mouse_id"
   ]
  },
  {
   "cell_type": "code",
   "execution_count": 3,
   "metadata": {},
   "outputs": [],
   "source": [
    "df_psth=pd.read_csv('/Users/xiaoxuanj/Dropbox/2019 information_flow_paper/Neuron submission/second_submission/data/population_psth_properties_RF_alltrials_removedlow_corrected.csv', index_col=0)"
   ]
  },
  {
   "cell_type": "code",
   "execution_count": 4,
   "metadata": {},
   "outputs": [
    {
     "data": {
      "text/html": [
       "<div>\n",
       "<style scoped>\n",
       "    .dataframe tbody tr th:only-of-type {\n",
       "        vertical-align: middle;\n",
       "    }\n",
       "\n",
       "    .dataframe tbody tr th {\n",
       "        vertical-align: top;\n",
       "    }\n",
       "\n",
       "    .dataframe thead th {\n",
       "        text-align: right;\n",
       "    }\n",
       "</style>\n",
       "<table border=\"1\" class=\"dataframe\">\n",
       "  <thead>\n",
       "    <tr style=\"text-align: right;\">\n",
       "      <th></th>\n",
       "      <th>width</th>\n",
       "      <th>height</th>\n",
       "      <th>time</th>\n",
       "      <th>cluster_id</th>\n",
       "      <th>mouse_id</th>\n",
       "    </tr>\n",
       "  </thead>\n",
       "  <tbody>\n",
       "    <tr>\n",
       "      <th>0</th>\n",
       "      <td>27.502970</td>\n",
       "      <td>15.988882</td>\n",
       "      <td>76.0</td>\n",
       "      <td>cluster2</td>\n",
       "      <td>306046</td>\n",
       "    </tr>\n",
       "    <tr>\n",
       "      <th>1</th>\n",
       "      <td>24.683711</td>\n",
       "      <td>19.704145</td>\n",
       "      <td>76.0</td>\n",
       "      <td>cluster2</td>\n",
       "      <td>306046</td>\n",
       "    </tr>\n",
       "    <tr>\n",
       "      <th>2</th>\n",
       "      <td>22.674816</td>\n",
       "      <td>17.971564</td>\n",
       "      <td>64.0</td>\n",
       "      <td>cluster2</td>\n",
       "      <td>306046</td>\n",
       "    </tr>\n",
       "    <tr>\n",
       "      <th>3</th>\n",
       "      <td>12.473573</td>\n",
       "      <td>15.156656</td>\n",
       "      <td>62.0</td>\n",
       "      <td>cluster2</td>\n",
       "      <td>306046</td>\n",
       "    </tr>\n",
       "    <tr>\n",
       "      <th>4</th>\n",
       "      <td>16.397502</td>\n",
       "      <td>17.239004</td>\n",
       "      <td>68.0</td>\n",
       "      <td>cluster2</td>\n",
       "      <td>306046</td>\n",
       "    </tr>\n",
       "  </tbody>\n",
       "</table>\n",
       "</div>"
      ],
      "text/plain": [
       "       width     height  time cluster_id  mouse_id\n",
       "0  27.502970  15.988882  76.0   cluster2    306046\n",
       "1  24.683711  19.704145  76.0   cluster2    306046\n",
       "2  22.674816  17.971564  64.0   cluster2    306046\n",
       "3  12.473573  15.156656  62.0   cluster2    306046\n",
       "4  16.397502  17.239004  68.0   cluster2    306046"
      ]
     },
     "execution_count": 4,
     "metadata": {},
     "output_type": "execute_result"
    }
   ],
   "source": [
    "df_psth.head()"
   ]
  },
  {
   "cell_type": "code",
   "execution_count": 5,
   "metadata": {},
   "outputs": [
    {
     "data": {
      "text/plain": [
       "<matplotlib.axes._subplots.AxesSubplot at 0x7ff76a40dd68>"
      ]
     },
     "execution_count": 5,
     "metadata": {},
     "output_type": "execute_result"
    },
    {
     "data": {
      "image/png": "[encoded data removed]",
      "text/plain": [
       "<Figure size 1152x216 with 1 Axes>"
      ]
     },
     "metadata": {
      "needs_background": "light"
     },
     "output_type": "display_data"
    },
    {
     "data": {
      "image/png": "[encoded data removed]",
      "text/plain": [
       "<Figure size 1152x216 with 1 Axes>"
      ]
     },
     "metadata": {
      "needs_background": "light"
     },
     "output_type": "display_data"
    },
    {
     "data": {
      "image/png": "[encoded data removed]",
      "text/plain": [
       "<Figure size 1152x216 with 1 Axes>"
      ]
     },
     "metadata": {
      "needs_background": "light"
     },
     "output_type": "display_data"
    }
   ],
   "source": [
    "plt.figure(figsize=(16,3))\n",
    "sns.boxplot(x=\"mouse_id\", y=\"width\", hue=\"cluster_id\", \n",
    "            data=df_psth, \n",
    "            palette=['r','b'], \n",
    "            boxprops=dict(alpha=.6),\n",
    "           showfliers=False)\n",
    "\n",
    "plt.figure(figsize=(16,3))\n",
    "sns.boxplot(x=\"mouse_id\", y=\"time\", hue=\"cluster_id\", \n",
    "            data=df_psth, \n",
    "            palette=['r','b'], \n",
    "            boxprops=dict(alpha=.6),\n",
    "           showfliers=False)\n",
    "\n",
    "plt.figure(figsize=(16,3))\n",
    "sns.boxplot(x=\"mouse_id\", y=\"height\", hue=\"cluster_id\", \n",
    "            data=df_psth, \n",
    "            palette=['r','b'], \n",
    "            boxprops=dict(alpha=.6),\n",
    "            showfliers=False)\n"
   ]
  },
  {
   "cell_type": "markdown",
   "metadata": {},
   "source": [
    "## apply 2-way anova consider interaction between mouse and cluster factors"
   ]
  },
  {
   "cell_type": "code",
   "execution_count": 6,
   "metadata": {},
   "outputs": [],
   "source": [
    "df_new = df_psth.dropna()"
   ]
  },
  {
   "cell_type": "code",
   "execution_count": 7,
   "metadata": {},
   "outputs": [],
   "source": [
    "formula = 'width ~ C(cluster_id) + C(mouse_id) + C(cluster_id):C(mouse_id)'\n",
    "model = ols(formula, df_new).fit()\n",
    "aov_table = anova_lm(model, typ=2)"
   ]
  },
  {
   "cell_type": "code",
   "execution_count": 8,
   "metadata": {},
   "outputs": [
    {
     "name": "stdout",
     "output_type": "stream",
     "text": [
      "                                  sum_sq       df            F         PR(>F)  \\\n",
      "C(cluster_id)               70353.112074      1.0  1278.506473  4.032514e-266   \n",
      "C(mouse_id)                 30161.491483     18.0    30.450886  2.409158e-102   \n",
      "C(cluster_id):C(mouse_id)   16453.966636     18.0    16.611839   3.988375e-52   \n",
      "Residual                   658129.808529  11960.0          NaN            NaN   \n",
      "\n",
      "                             eta_sq  omega_sq  \n",
      "C(cluster_id)              0.090767  0.090689  \n",
      "C(mouse_id)                0.038913  0.037633  \n",
      "C(cluster_id):C(mouse_id)  0.021228  0.019949  \n",
      "Residual                        NaN       NaN  \n"
     ]
    }
   ],
   "source": [
    "eta_squared(aov_table)\n",
    "omega_squared(aov_table)\n",
    "print(aov_table)"
   ]
  },
  {
   "cell_type": "markdown",
   "metadata": {},
   "source": [
    "# 2. comparison of MI for cluster and area"
   ]
  },
  {
   "cell_type": "code",
   "execution_count": 9,
   "metadata": {},
   "outputs": [],
   "source": [
    "df_mi = pd.read_csv('/Users/xiaoxuanj/Dropbox/2019 information_flow_paper/Neuron submission/second_submission/data/modulation_index_individual.csv', index_col=0)"
   ]
  },
  {
   "cell_type": "code",
   "execution_count": 10,
   "metadata": {},
   "outputs": [
    {
     "data": {
      "text/html": [
       "<div>\n",
       "<style scoped>\n",
       "    .dataframe tbody tr th:only-of-type {\n",
       "        vertical-align: middle;\n",
       "    }\n",
       "\n",
       "    .dataframe tbody tr th {\n",
       "        vertical-align: top;\n",
       "    }\n",
       "\n",
       "    .dataframe thead th {\n",
       "        text-align: right;\n",
       "    }\n",
       "</style>\n",
       "<table border=\"1\" class=\"dataframe\">\n",
       "  <thead>\n",
       "    <tr style=\"text-align: right;\">\n",
       "      <th></th>\n",
       "      <th>mouse_id</th>\n",
       "      <th>probe_id</th>\n",
       "      <th>unit_id</th>\n",
       "      <th>channel_id</th>\n",
       "      <th>cluster</th>\n",
       "      <th>MI</th>\n",
       "    </tr>\n",
       "  </thead>\n",
       "  <tbody>\n",
       "    <tr>\n",
       "      <th>0</th>\n",
       "      <td>306046</td>\n",
       "      <td>probeA</td>\n",
       "      <td>341.0</td>\n",
       "      <td>123</td>\n",
       "      <td>1.0</td>\n",
       "      <td>0.483490</td>\n",
       "    </tr>\n",
       "    <tr>\n",
       "      <th>1</th>\n",
       "      <td>306046</td>\n",
       "      <td>probeA</td>\n",
       "      <td>332.0</td>\n",
       "      <td>125</td>\n",
       "      <td>1.0</td>\n",
       "      <td>0.815544</td>\n",
       "    </tr>\n",
       "    <tr>\n",
       "      <th>2</th>\n",
       "      <td>306046</td>\n",
       "      <td>probeA</td>\n",
       "      <td>322.0</td>\n",
       "      <td>129</td>\n",
       "      <td>1.0</td>\n",
       "      <td>0.586609</td>\n",
       "    </tr>\n",
       "    <tr>\n",
       "      <th>3</th>\n",
       "      <td>306046</td>\n",
       "      <td>probeA</td>\n",
       "      <td>330.0</td>\n",
       "      <td>139</td>\n",
       "      <td>1.0</td>\n",
       "      <td>2.100634</td>\n",
       "    </tr>\n",
       "    <tr>\n",
       "      <th>4</th>\n",
       "      <td>306046</td>\n",
       "      <td>probeA</td>\n",
       "      <td>321.0</td>\n",
       "      <td>153</td>\n",
       "      <td>1.0</td>\n",
       "      <td>0.647929</td>\n",
       "    </tr>\n",
       "  </tbody>\n",
       "</table>\n",
       "</div>"
      ],
      "text/plain": [
       "   mouse_id probe_id  unit_id  channel_id  cluster        MI\n",
       "0    306046   probeA    341.0         123      1.0  0.483490\n",
       "1    306046   probeA    332.0         125      1.0  0.815544\n",
       "2    306046   probeA    322.0         129      1.0  0.586609\n",
       "3    306046   probeA    330.0         139      1.0  2.100634\n",
       "4    306046   probeA    321.0         153      1.0  0.647929"
      ]
     },
     "execution_count": 10,
     "metadata": {},
     "output_type": "execute_result"
    }
   ],
   "source": [
    "df_mi.head()"
   ]
  },
  {
   "cell_type": "code",
   "execution_count": 11,
   "metadata": {},
   "outputs": [
    {
     "data": {
      "text/plain": [
       "<matplotlib.axes._subplots.AxesSubplot at 0x7ff76ef5f898>"
      ]
     },
     "execution_count": 11,
     "metadata": {},
     "output_type": "execute_result"
    },
    {
     "data": {
      "image/png": "[encoded data removed]",
      "text/plain": [
       "<Figure size 1152x216 with 1 Axes>"
      ]
     },
     "metadata": {
      "needs_background": "light"
     },
     "output_type": "display_data"
    }
   ],
   "source": [
    "plt.figure(figsize=(16,3))\n",
    "sns.boxplot(x=\"mouse_id\", y=\"MI\", hue=\"cluster\", \n",
    "            data=df_mi[df_mi.cluster!=1], \n",
    "            palette=['r','b'], \n",
    "            boxprops=dict(alpha=.6),\n",
    "           showfliers=False)\n"
   ]
  },
  {
   "cell_type": "code",
   "execution_count": 12,
   "metadata": {},
   "outputs": [],
   "source": [
    "formula = 'MI ~ C(mouse_id) + C(cluster) + C(mouse_id):C(cluster)'\n",
    "model = ols(formula, df_mi[df_mi.cluster!=1]).fit()\n",
    "aov_table = anova_lm(model, typ=2)"
   ]
  },
  {
   "cell_type": "code",
   "execution_count": 13,
   "metadata": {},
   "outputs": [
    {
     "name": "stdout",
     "output_type": "stream",
     "text": [
      "                              sum_sq      df           F        PR(>F)  \\\n",
      "C(mouse_id)              1993.740058    18.0    9.885022  7.736648e-27   \n",
      "C(cluster)               1415.201131     1.0  126.298961  2.322688e-28   \n",
      "C(mouse_id):C(cluster)    459.454312    18.0    2.277988  1.663468e-03   \n",
      "Residual                19956.404960  1781.0         NaN           NaN   \n",
      "\n",
      "                          eta_sq  omega_sq  \n",
      "C(mouse_id)             0.083683  0.075182  \n",
      "C(cluster)              0.059400  0.058902  \n",
      "C(mouse_id):C(cluster)  0.019285  0.010814  \n",
      "Residual                     NaN       NaN  \n"
     ]
    }
   ],
   "source": [
    "eta_squared(aov_table)\n",
    "omega_squared(aov_table)\n",
    "print(aov_table)"
   ]
  },
  {
   "cell_type": "code",
   "execution_count": 14,
   "metadata": {},
   "outputs": [
    {
     "data": {
      "text/plain": [
       "<matplotlib.legend.Legend at 0x7ff76dea0da0>"
      ]
     },
     "execution_count": 14,
     "metadata": {},
     "output_type": "execute_result"
    },
    {
     "data": {
      "image/png": "[encoded data removed]",
      "text/plain": [
       "<Figure size 432x216 with 1 Axes>"
      ]
     },
     "metadata": {
      "needs_background": "light"
     },
     "output_type": "display_data"
    }
   ],
   "source": [
    "cluster_color=['red', 'blue']\n",
    "\n",
    "plt.figure(figsize=(6,3))\n",
    "b = sns.boxplot(x=\"probe_id\", y='MI',\n",
    "            hue=\"cluster\", palette=cluster_color,\n",
    "            data=df_mi[df_mi.cluster!=1],\n",
    "               boxprops=dict(alpha=.6),\n",
    "               showfliers=False) #[(df_all.type!='bad') & (df_all.p_val<0.1)]\n",
    "sns.despine(offset=10, trim=True)\n",
    "b.tick_params(labelsize=12)\n",
    "plt.legend(bbox_to_anchor=(1.05, 1), loc=2, borderaxespad=0.)\n"
   ]
  },
  {
   "cell_type": "code",
   "execution_count": 15,
   "metadata": {},
   "outputs": [],
   "source": [
    "formula = 'MI ~ C(probe_id) + C(cluster) + C(probe_id):C(cluster)'\n",
    "model = ols(formula, df_mi[df_mi.cluster!=1]).fit()\n",
    "aov_table = anova_lm(model, typ=2)"
   ]
  },
  {
   "cell_type": "code",
   "execution_count": 16,
   "metadata": {},
   "outputs": [
    {
     "name": "stdout",
     "output_type": "stream",
     "text": [
      "                              sum_sq      df          F        PR(>F)  \\\n",
      "C(probe_id)              2865.031098     5.0  53.136311  1.420010e-51   \n",
      "C(cluster)                136.507070     1.0  12.658645  3.834784e-04   \n",
      "C(probe_id):C(cluster)     58.416138     5.0   1.083415  3.675287e-01   \n",
      "Residual                19486.152093  1807.0        NaN           NaN   \n",
      "\n",
      "                          eta_sq  omega_sq  \n",
      "C(probe_id)             0.127074  0.124623  \n",
      "C(cluster)              0.006055  0.005574  \n",
      "C(probe_id):C(cluster)  0.002591  0.000199  \n",
      "Residual                     NaN       NaN  \n"
     ]
    }
   ],
   "source": [
    "eta_squared(aov_table)\n",
    "omega_squared(aov_table)\n",
    "print(aov_table)"
   ]
  },
  {
   "cell_type": "markdown",
   "metadata": {},
   "source": [
    "# 3. Compare divergence and convergence degree between clusters across areas"
   ]
  },
  {
   "cell_type": "code",
   "execution_count": 28,
   "metadata": {},
   "outputs": [],
   "source": [
    "df=pd.read_csv('/Users/xiaoxuanj/Dropbox/2019 information_flow_paper/Neuron submission/second_submission/data/div_conv_threshold0.csv', index_col=0)"
   ]
  },
  {
   "cell_type": "code",
   "execution_count": 29,
   "metadata": {},
   "outputs": [],
   "source": [
    "formula = 'div ~ C(cluster) + C(probe_id) + C(cluster):C(probe_id)'\n",
    "model = ols(formula, df[df.cluster!=1]).fit()\n",
    "aov_table = anova_lm(model, typ=2)"
   ]
  },
  {
   "cell_type": "code",
   "execution_count": 30,
   "metadata": {},
   "outputs": [
    {
     "name": "stdout",
     "output_type": "stream",
     "text": [
      "                           sum_sq      df            F         PR(>F)  \\\n",
      "C(cluster)              12.703801     1.0  1029.487093  5.412573e-184   \n",
      "C(probe_id)              2.181638     5.0    35.358994   7.924949e-35   \n",
      "C(cluster):C(probe_id)   0.223266     5.0     3.618600   2.911492e-03   \n",
      "Residual                25.778117  2089.0          NaN            NaN   \n",
      "\n",
      "                          eta_sq  omega_sq  \n",
      "C(cluster)              0.310706  0.310311  \n",
      "C(probe_id)             0.053358  0.051833  \n",
      "C(cluster):C(probe_id)  0.005461  0.003950  \n",
      "Residual                     NaN       NaN  \n"
     ]
    }
   ],
   "source": [
    "eta_squared(aov_table)\n",
    "omega_squared(aov_table)\n",
    "print(aov_table)"
   ]
  },
  {
   "cell_type": "code",
   "execution_count": 32,
   "metadata": {},
   "outputs": [],
   "source": [
    "formula = 'conv ~ C(cluster) + C(probe_id) + C(cluster):C(probe_id)'\n",
    "model = ols(formula, df[df.cluster!=1]).fit()\n",
    "aov_table = anova_lm(model, typ=2)"
   ]
  },
  {
   "cell_type": "code",
   "execution_count": 33,
   "metadata": {},
   "outputs": [
    {
     "name": "stdout",
     "output_type": "stream",
     "text": [
      "                           sum_sq      df            F         PR(>F)  \\\n",
      "C(cluster)              12.705309     1.0  1029.531359  5.332840e-184   \n",
      "C(probe_id)              2.180913     5.0    35.344571   8.188274e-35   \n",
      "C(cluster):C(probe_id)   0.223183     5.0     3.616982   2.921449e-03   \n",
      "Residual                25.780070  2089.0          NaN            NaN   \n",
      "\n",
      "                          eta_sq  omega_sq  \n",
      "C(cluster)              0.310723  0.310328  \n",
      "C(probe_id)             0.053337  0.051812  \n",
      "C(cluster):C(probe_id)  0.005458  0.003948  \n",
      "Residual                     NaN       NaN  \n"
     ]
    }
   ],
   "source": [
    "eta_squared(aov_table)\n",
    "omega_squared(aov_table)\n",
    "print(aov_table)"
   ]
  },
  {
   "cell_type": "code",
   "execution_count": 34,
   "metadata": {},
   "outputs": [],
   "source": [
    "df=pd.read_csv('/Users/xiaoxuanj/Dropbox/2019 information_flow_paper/Neuron submission/second_submission/data/div_conv_shuffle_nothreshold.csv', index_col=0)"
   ]
  },
  {
   "cell_type": "code",
   "execution_count": 35,
   "metadata": {},
   "outputs": [],
   "source": [
    "formula = 'div ~ C(cluster) + C(probe_id) + C(cluster):C(probe_id)'\n",
    "model = ols(formula, df[df.cluster!=1]).fit()\n",
    "aov_table = anova_lm(model, typ=2)"
   ]
  },
  {
   "cell_type": "code",
   "execution_count": 36,
   "metadata": {},
   "outputs": [
    {
     "name": "stdout",
     "output_type": "stream",
     "text": [
      "                           sum_sq      df            F         PR(>F)  \\\n",
      "C(cluster)              19.932010     1.0  1483.247745  1.150061e-245   \n",
      "C(probe_id)              0.039395     5.0     0.586318   7.105249e-01   \n",
      "C(cluster):C(probe_id)   0.071467     5.0     1.063645   3.786264e-01   \n",
      "Residual                28.072160  2089.0          NaN            NaN   \n",
      "\n",
      "                          eta_sq  omega_sq  \n",
      "C(cluster)              0.414257  0.413863  \n",
      "C(probe_id)             0.000819 -0.000578  \n",
      "C(cluster):C(probe_id)  0.001485  0.000089  \n",
      "Residual                     NaN       NaN  \n"
     ]
    }
   ],
   "source": [
    "eta_squared(aov_table)\n",
    "omega_squared(aov_table)\n",
    "print(aov_table)"
   ]
  },
  {
   "cell_type": "code",
   "execution_count": 37,
   "metadata": {},
   "outputs": [],
   "source": [
    "formula = 'conv ~ C(cluster) + C(probe_id) + C(cluster):C(probe_id)'\n",
    "model = ols(formula, df[df.cluster!=1]).fit()\n",
    "aov_table = anova_lm(model, typ=2)"
   ]
  },
  {
   "cell_type": "code",
   "execution_count": 38,
   "metadata": {},
   "outputs": [
    {
     "name": "stdout",
     "output_type": "stream",
     "text": [
      "                           sum_sq      df            F         PR(>F)  \\\n",
      "C(cluster)              19.933657     1.0  1483.303733  1.131374e-245   \n",
      "C(probe_id)              0.039344     5.0     0.585539   7.111246e-01   \n",
      "C(cluster):C(probe_id)   0.071401     5.0     1.062623   3.792097e-01   \n",
      "Residual                28.073421  2089.0          NaN            NaN   \n",
      "\n",
      "                          eta_sq  omega_sq  \n",
      "C(cluster)              0.414268  0.413873  \n",
      "C(probe_id)             0.000818 -0.000579  \n",
      "C(cluster):C(probe_id)  0.001484  0.000087  \n",
      "Residual                     NaN       NaN  \n"
     ]
    }
   ],
   "source": [
    "eta_squared(aov_table)\n",
    "omega_squared(aov_table)\n",
    "print(aov_table)"
   ]
  },
  {
   "cell_type": "code",
   "execution_count": null,
   "metadata": {},
   "outputs": [],
   "source": [
    "# 4. layer and area comparison"
   ]
  },
  {
   "cell_type": "code",
   "execution_count": 39,
   "metadata": {},
   "outputs": [],
   "source": [
    "layers = np.load('/Users/xiaoxuanj/Dropbox/2019 information_flow_paper/Neuron submission/second_submission/data/layer_distribution.npy')"
   ]
  },
  {
   "cell_type": "code",
   "execution_count": 4,
   "metadata": {},
   "outputs": [
    {
     "data": {
      "text/plain": [
       "(100, 2, 3)"
      ]
     },
     "execution_count": 4,
     "metadata": {},
     "output_type": "execute_result"
    }
   ],
   "source": [
    "layers.shape"
   ]
  },
  {
   "cell_type": "code",
   "execution_count": 5,
   "metadata": {},
   "outputs": [],
   "source": [
    "df=pd.DataFrame()\n",
    "data = np.concatenate([layers[:,0,0], layers[:,0,1], layers[:,0,2], layers[:,1,0], layers[:,1,1],layers[:,1,2]], axis=0)"
   ]
  },
  {
   "cell_type": "code",
   "execution_count": 6,
   "metadata": {},
   "outputs": [],
   "source": [
    "df['cluster'] = np.concatenate([np.ones(300)*2, np.ones(300)*3], axis=0)"
   ]
  },
  {
   "cell_type": "code",
   "execution_count": 7,
   "metadata": {},
   "outputs": [],
   "source": [
    "df['depth'] = np.concatenate([np.ones(100)*1, np.ones(100)*2, np.ones(100)*3, np.ones(100)*1, np.ones(100)*2, np.ones(100)*3,], axis=0)"
   ]
  },
  {
   "cell_type": "code",
   "execution_count": 8,
   "metadata": {},
   "outputs": [],
   "source": [
    "df['proportion']=data"
   ]
  },
  {
   "cell_type": "code",
   "execution_count": 9,
   "metadata": {},
   "outputs": [],
   "source": [
    "formula = 'proportion ~ C(cluster) + C(depth) + C(cluster):C(depth)'\n",
    "model = ols(formula, df).fit()\n",
    "aov_table = anova_lm(model, typ=2)"
   ]
  },
  {
   "cell_type": "code",
   "execution_count": 10,
   "metadata": {},
   "outputs": [
    {
     "name": "stdout",
     "output_type": "stream",
     "text": [
      "                           sum_sq     df             F    PR(>F)  \\\n",
      "C(cluster)           8.135128e-29    1.0  1.512668e-24  1.000000   \n",
      "C(depth)             1.296146e-03    2.0  1.205045e+01  0.000007   \n",
      "C(cluster):C(depth)  5.946309e+00    2.0  5.528366e+04  0.000000   \n",
      "Residual             3.194531e-02  594.0           NaN       NaN   \n",
      "\n",
      "                           eta_sq  omega_sq  \n",
      "C(cluster)           1.360492e-29 -0.000009  \n",
      "C(depth)             2.167631e-04  0.000199  \n",
      "C(cluster):C(depth)  9.944408e-01  0.994414  \n",
      "Residual                      NaN       NaN  \n"
     ]
    }
   ],
   "source": [
    "eta_squared(aov_table)\n",
    "omega_squared(aov_table)\n",
    "print(aov_table)"
   ]
  },
  {
   "cell_type": "code",
   "execution_count": 16,
   "metadata": {},
   "outputs": [
    {
     "data": {
      "text/plain": [
       "0.46889264927537044"
      ]
     },
     "execution_count": 16,
     "metadata": {},
     "output_type": "execute_result"
    }
   ],
   "source": [
    "np.nanmean(df[(df.cluster==3) & (df.depth==1)].proportion.values)"
   ]
  },
  {
   "cell_type": "code",
   "execution_count": 17,
   "metadata": {},
   "outputs": [
    {
     "data": {
      "text/plain": [
       "<matplotlib.legend.Legend at 0x7f850dea44e0>"
      ]
     },
     "execution_count": 17,
     "metadata": {},
     "output_type": "execute_result"
    },
    {
     "data": {
      "image/png": "[encoded data removed]",
      "text/plain": [
       "<Figure size 432x216 with 1 Axes>"
      ]
     },
     "metadata": {
      "needs_background": "light"
     },
     "output_type": "display_data"
    }
   ],
   "source": [
    "cluster_color=['red', 'blue']\n",
    "\n",
    "plt.figure(figsize=(6,3))\n",
    "b = sns.boxplot(x=\"depth\", y='proportion',\n",
    "            hue=\"cluster\", palette=cluster_color,\n",
    "            data=df,\n",
    "               boxprops=dict(alpha=.6),\n",
    "               showfliers=False) #[(df_all.type!='bad') & (df_all.p_val<0.1)]\n",
    "sns.despine(offset=10, trim=True)\n",
    "b.tick_params(labelsize=12)\n",
    "plt.legend(bbox_to_anchor=(1.05, 1), loc=2, borderaxespad=0.)"
   ]
  },
  {
   "cell_type": "code",
   "execution_count": 20,
   "metadata": {},
   "outputs": [
    {
     "name": "stdout",
     "output_type": "stream",
     "text": [
      "34187.37022918407 0.0\n"
     ]
    }
   ],
   "source": [
    "import scipy.stats as stats\n",
    "# stats f_oneway functions takes the groups as input and returns ANOVA F and p value\n",
    "fvalue, pvalue = stats.f_oneway(df[(df.cluster==2) & (df.depth==1)].proportion, \n",
    "                                df[(df.cluster==2) & (df.depth==2)].proportion, \n",
    "                               df[(df.cluster==2) & (df.depth==3)].proportion, )\n",
    "print(fvalue, pvalue)"
   ]
  },
  {
   "cell_type": "code",
   "execution_count": 21,
   "metadata": {},
   "outputs": [
    {
     "name": "stdout",
     "output_type": "stream",
     "text": [
      "22983.909390548877 0.0\n"
     ]
    }
   ],
   "source": [
    "# stats f_oneway functions takes the groups as input and returns ANOVA F and p value\n",
    "fvalue, pvalue = stats.f_oneway(df[(df.cluster==3) & (df.depth==1)].proportion, \n",
    "                                df[(df.cluster==3) & (df.depth==2)].proportion, \n",
    "                               df[(df.cluster==3) & (df.depth==3)].proportion, )\n",
    "print(fvalue, pvalue)"
   ]
  },
  {
   "cell_type": "code",
   "execution_count": null,
   "metadata": {},
   "outputs": [],
   "source": []
  }
 ],
 "metadata": {
  "kernelspec": {
   "display_name": "Python 3",
   "language": "python",
   "name": "python3"
  },
  "language_info": {
   "codemirror_mode": {
    "name": "ipython",
    "version": 3
   },
   "file_extension": ".py",
   "mimetype": "text/x-python",
   "name": "python",
   "nbconvert_exporter": "python",
   "pygments_lexer": "ipython3",
   "version": "3.6.10"
  }
 },
 "nbformat": 4,
 "nbformat_minor": 4
}
