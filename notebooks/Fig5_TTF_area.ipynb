{
 "cells": [
  {
   "cell_type": "code",
   "execution_count": 1,
   "metadata": {},
   "outputs": [],
   "source": [
    "import warnings\n",
    "warnings.filterwarnings('ignore')\n",
    "import numpy as np\n",
    "import scipy as sp\n",
    "import os, sys,glob, copy\n",
    "import pandas as pd\n",
    "\n",
    "import matplotlib.pyplot as plt\n",
    "plt.style.use('default')\n",
    "%matplotlib inline\n",
    "\n",
    "from sklearn.linear_model import LinearRegression\n",
    "from scipy.stats import linregress, pearsonr, spearmanr"
   ]
  },
  {
   "cell_type": "code",
   "execution_count": 2,
   "metadata": {},
   "outputs": [],
   "source": [
    "[driver_ttf, driven_ttf] = np.load('~/data/Fig5_6/ttf_area.npy')"
   ]
  },
  {
   "cell_type": "code",
   "execution_count": 3,
   "metadata": {},
   "outputs": [
    {
     "name": "stdout",
     "output_type": "stream",
     "text": [
      "$r_S$ = 0.83; $P_S$ = 0.0415626822\n",
      "$r_P$ = 0.93; $P_P$ = 0.0080889857\n",
      "$r_S$ = 0.14; $P_S$ = 0.7871720117\n",
      "$r_P$ = 0.08; $P_P$ = 0.8775453616\n"
     ]
    },
    {
     "data": {
      "text/plain": [
       "Text(0.5, 1.0, 'Pearson r=0.96, p=0.003; r=-0.01, p=0.99; Spearman r=0.83 p=0.04; r=0.14, p=0.79')"
      ]
     },
     "execution_count": 3,
     "metadata": {},
     "output_type": "execute_result"
    },
    {
     "data": {
      "image/png": "[encoded data removed]",
      "text/plain": [
       "<Figure size 360x360 with 1 Axes>"
      ]
     },
     "metadata": {
      "needs_background": "light"
     },
     "output_type": "display_data"
    }
   ],
   "source": [
    "HS = np.array([-0.50149, -0.13929, -0.12294, -0.00431, 0.11828, 0.29330]) # CC-CT-TC global HS from Harris\n",
    "\n",
    "plt.figure(figsize=(5,5))\n",
    "Y = driver_ttf[:,0].reshape(-1, 1)\n",
    "X = np.arange(6).reshape(-1, 1) #HS.reshape(-1, 1) #\n",
    "linear_regressor = LinearRegression()  # create object for the class\n",
    "linear_regressor.fit(X, Y)  # perform linear regression\n",
    "Y_pred = linear_regressor.predict(X)  # make predictions\n",
    "r_s,p_s = spearmanr(X,Y)\n",
    "r_p,p_p = pearsonr(X[:,0],Y[:,0])\n",
    "\n",
    "text = '$r_S$ = ' + str(np.around(pow(r_s,1),2)) + '; $P_S$ = ' + str(np.around(p_s,10)) + '\\n' + \\\n",
    "          '$r_P$ = ' + str(np.around(pow(r_p,1),2)) + '; $P_P$ = ' + str(np.around(p_p,10))\n",
    "print(text)\n",
    "\n",
    "plt.scatter(X, Y)\n",
    "plt.plot(X, Y_pred, color='red')\n",
    "plt.errorbar(x=X, y=driver_ttf[:,0], yerr=driver_ttf[:,1], c='r', fmt='o')\n",
    "\n",
    "Y = driven_ttf[:,0].reshape(-1, 1)\n",
    "X = np.arange(6).reshape(-1, 1) #HS.reshape(-1, 1) #\n",
    "linear_regressor = LinearRegression()  # create object for the class\n",
    "linear_regressor.fit(X, Y)  # perform linear regression\n",
    "Y_pred = linear_regressor.predict(X)  # make predictions\n",
    "r_s,p_s = spearmanr(X,Y)\n",
    "r_p,p_p = pearsonr(X[:,0],Y[:,0])\n",
    "\n",
    "text = '$r_S$ = ' + str(np.around(pow(r_s,1),2)) + '; $P_S$ = ' + str(np.around(p_s,10)) + '\\n' + \\\n",
    "          '$r_P$ = ' + str(np.around(pow(r_p,1),2)) + '; $P_P$ = ' + str(np.around(p_p,10))\n",
    "print(text)\n",
    "plt.scatter(X, Y)\n",
    "plt.plot(X, Y_pred, color='b')\n",
    "plt.errorbar(x=X, y=driven_ttf[:,0], yerr=driven_ttf[:,1], c='b', fmt='o')\n",
    "#plt.ylim([66,73])\n",
    "plt.ylabel('Latency to first spike', fontsize=14)\n",
    "plt.xlabel('Areas', fontsize=14)\n",
    "plt.xticks(X, ['V1', 'RL', 'LM', 'AL', 'PM', 'AM'])\n",
    "plt.title('Pearson r=0.96, p=0.003; r=-0.01, p=0.99; Spearman r=0.83 p=0.04; r=0.14, p=0.79')\n",
    "\n",
    "\n"
   ]
  },
  {
   "cell_type": "code",
   "execution_count": null,
   "metadata": {
    "collapsed": true,
    "jupyter": {
     "outputs_hidden": true
    }
   },
   "outputs": [],
   "source": []
  }
 ],
 "metadata": {
  "kernelspec": {
   "display_name": "Python 3",
   "language": "python",
   "name": "python3"
  },
  "language_info": {
   "codemirror_mode": {
    "name": "ipython",
    "version": 3
   },
   "file_extension": ".py",
   "mimetype": "text/x-python",
   "name": "python",
   "nbconvert_exporter": "python",
   "pygments_lexer": "ipython3",
   "version": "3.6.10"
  }
 },
 "nbformat": 4,
 "nbformat_minor": 4
}
